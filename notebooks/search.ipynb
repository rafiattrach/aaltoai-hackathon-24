{
 "cells": [
  {
   "cell_type": "markdown",
   "metadata": {},
   "source": [
    "#### Imports and Keys"
   ]
  },
  {
   "cell_type": "code",
   "execution_count": 22,
   "metadata": {},
   "outputs": [],
   "source": [
    "from langchain_pinecone import PineconeVectorStore\n",
    "from langchain.embeddings.openai import OpenAIEmbeddings\n",
    "from dotenv import load_dotenv, find_dotenv\n",
    "from langchain.vectorstores import Pinecone\n",
    "from langchain.chat_models import ChatOpenAI\n",
    "from langchain.chains.question_answering import load_qa_chain\n",
    "import os\n",
    "load_dotenv(find_dotenv())\n",
    "\n",
    "index_name = \"stihl\"\n",
    "\n",
    "embeddings = OpenAIEmbeddings(openai_api_key=os.getenv(\"OPENAI_API_KEY\"))\n",
    "\n",
    "OPENAI_API_KEY = os.environ.get('OPENAI_API_KEY')\n",
    "PINECONE_API_KEY = os.environ.get('PINECONE_API_KEY')\n",
    "PINECONE_API_ENV = os.getenv('PINECONE_API_ENV', 'us-east-1')\n"
   ]
  },
  {
   "cell_type": "markdown",
   "metadata": {},
   "source": [
    "#### Define LLM and Chain"
   ]
  },
  {
   "cell_type": "code",
   "execution_count": 23,
   "metadata": {},
   "outputs": [
    {
     "name": "stderr",
     "output_type": "stream",
     "text": [
      "/Users/rafraf/Documents/code/aaltoai-hackathon-24/aaltoai_venv/lib/python3.9/site-packages/langchain_core/_api/deprecation.py:119: LangChainDeprecationWarning: The class `ChatOpenAI` was deprecated in LangChain 0.0.10 and will be removed in 0.2.0. An updated version of the class exists in the langchain-openai package and should be used instead. To use it run `pip install -U langchain-openai` and import as `from langchain_openai import ChatOpenAI`.\n",
      "  warn_deprecated(\n"
     ]
    }
   ],
   "source": [
    "llm = ChatOpenAI(temperature=0, openai_api_key=OPENAI_API_KEY)\n",
    "chain = load_qa_chain(llm, chain_type=\"stuff\")"
   ]
  },
  {
   "cell_type": "markdown",
   "metadata": {},
   "source": [
    "#### Define Doc Search with Desired Query"
   ]
  },
  {
   "cell_type": "code",
   "execution_count": 32,
   "metadata": {},
   "outputs": [],
   "source": [
    "docsearch = Pinecone.from_existing_index(index_name, embeddings)\n",
    "query = \"These are my requirements find me the top 3 products: Compact brushcutter for urban landscaping. Single-handed operation, loop handle with safety barrier, around 25 cm\\u00b3 with a high power output.\"\n",
    "docs = docsearch.similarity_search(query)"
   ]
  },
  {
   "cell_type": "markdown",
   "metadata": {},
   "source": [
    "#### Run the Chain"
   ]
  },
  {
   "cell_type": "code",
   "execution_count": 33,
   "metadata": {},
   "outputs": [
    {
     "data": {
      "text/plain": [
       "'Based on your requirements for a compact brushcutter for urban landscaping with single-handed operation, loop handle with safety barrier, around 25 cm³, and high power output, the top 3 products that might suit your needs are:\\n\\n1. **FSA 57 Set with 2 × AK 10 and AL 101**\\n   - Order number: 4522 200 0006\\n   - Very lightweight and easy-to-use battery brushcutter\\n   - Cutting circle diameter of 280 mm\\n   - Adjustable shaft length and handle\\n   - AutoCut C 3-2 line mowing head\\n   - Spacer for mowing around obstacles\\n   - Battery-powered for urban landscaping\\n\\n2. **FSA 57 Set with AK 10 and AL 101**\\n   - Order number: 4522 011 57 40\\n   - Very lightweight and easy-to-use battery brushcutter\\n   - Cutting circle diameter of 280 mm\\n   - Adjustable shaft length and handle\\n   - AutoCut C 3-2 line mowing head\\n   - Spacer for mowing around obstacles\\n   - Battery-powered for urban landscaping\\n\\n3. **FSA 57 excluding battery and charger**\\n   - Order number: 4522 011 5730\\n   - Very lightweight and easy-to-use battery brushcutter\\n   - Cutting circle diameter of 280 mm\\n   - Adjustable shaft length and handle\\n   - AutoCut C 3-2 line mowing head\\n   - Spacer for mowing around obstacles\\n   - Battery-powered for urban landscaping\\n\\nThese products are lightweight, easy to use, and suitable for maintaining lawns and lawn edges in urban areas with the features you specified.'"
      ]
     },
     "execution_count": 33,
     "metadata": {},
     "output_type": "execute_result"
    }
   ],
   "source": [
    "chain.run(input_documents=docs, question=query)"
   ]
  }
 ],
 "metadata": {
  "kernelspec": {
   "display_name": "aaltoai_venv",
   "language": "python",
   "name": "python3"
  },
  "language_info": {
   "codemirror_mode": {
    "name": "ipython",
    "version": 3
   },
   "file_extension": ".py",
   "mimetype": "text/x-python",
   "name": "python",
   "nbconvert_exporter": "python",
   "pygments_lexer": "ipython3",
   "version": "3.9.6"
  }
 },
 "nbformat": 4,
 "nbformat_minor": 2
}
