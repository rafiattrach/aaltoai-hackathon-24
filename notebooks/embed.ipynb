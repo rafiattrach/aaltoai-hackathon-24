{
 "cells": [
  {
   "cell_type": "markdown",
   "metadata": {},
   "source": [
    "#### Install Libraries"
   ]
  },
  {
   "cell_type": "code",
   "execution_count": 2,
   "metadata": {},
   "outputs": [
    {
     "name": "stdout",
     "output_type": "stream",
     "text": [
      "\u001b[33mWARNING: You are using pip version 21.2.4; however, version 24.0 is available.\n",
      "You should consider upgrading via the '/Users/rafraf/Documents/code/aaltoai-hackathon-24/aaltoai_venv/bin/python3 -m pip install --upgrade pip' command.\u001b[0m\n"
     ]
    }
   ],
   "source": [
    "!pip install python-dotenv pypdf langchain langchain-openai langchain-pinecone -q"
   ]
  },
  {
   "cell_type": "markdown",
   "metadata": {},
   "source": [
    "#### Import libraries"
   ]
  },
  {
   "cell_type": "code",
   "execution_count": 4,
   "metadata": {},
   "outputs": [
    {
     "data": {
      "text/plain": [
       "True"
      ]
     },
     "execution_count": 4,
     "metadata": {},
     "output_type": "execute_result"
    }
   ],
   "source": [
    "from langchain.document_loaders import UnstructuredPDFLoader, OnlinePDFLoader, PyPDFLoader, TextLoader\n",
    "from langchain.text_splitter import RecursiveCharacterTextSplitter\n",
    "from langchain.embeddings.openai import OpenAIEmbeddings\n",
    "from langchain_pinecone import PineconeVectorStore\n",
    "from langchain.chat_models import ChatOpenAI\n",
    "from langchain.chains.question_answering import load_qa_chain\n",
    "\n",
    "from dotenv import load_dotenv, find_dotenv\n",
    "import os\n",
    "\n",
    "PINECONE_API_KEY = os.environ.get('PINECONE_API_KEY')\n",
    "OPENAI_API_KEY = os.environ.get('OPENAI_API_KEY')\n",
    "\n",
    "load_dotenv(find_dotenv())"
   ]
  },
  {
   "cell_type": "markdown",
   "metadata": {},
   "source": [
    "#### Load Data"
   ]
  },
  {
   "cell_type": "code",
   "execution_count": 6,
   "metadata": {},
   "outputs": [],
   "source": [
    "loader = PyPDFLoader(\"../data/stihl.pdf\")\n",
    "data = loader.load()"
   ]
  },
  {
   "cell_type": "code",
   "execution_count": 16,
   "metadata": {},
   "outputs": [
    {
     "name": "stdout",
     "output_type": "stream",
     "text": [
      "You have 247 document(s) in your data\n",
      "There are 23 characters in your sample document\n",
      "Here is a sample: Aerators in detail\n",
      "ƒ\n",
      "Technology\n",
      "01STIHL LITHIUM-ION BATTERY TECHNOLOGY\n",
      "Operation with STIHL AK batteries enables comfortable and low-noise work.\n",
      "Convenience\n",
      "02HEIGHT-ADJUSTABLE HANDLEBAR\n",
      "In the RLA 240 and RLE 240, the handlebar can be easily adjusted to four diﬀerent heights. In addition, it is foldable in three places, enabling easy transport and space-saving storage.\n",
      "03GRASS CATCHER BOX\n",
      "The 50-litre grass catcher box is made from a tearproof woven textile. The steel frame with carry handle ensures stability and makes it comfortable to carry.\n",
      "Please note that not all products are equipped with the features presented here. \n",
      "Only the most important features are described on this page. For further explanations and information, see from page 482 and online at stihl.com .\n",
      "01Low-noise \n",
      "and easy to \n",
      "manoeuvre\n",
      "02Ergonomic work\n",
      "03Easy handling\n",
      "Aerators and \n",
      "accessoriesƒ\n",
      "● For private use\n",
      "● For removing lawn thatch and moss● To improve lawn quality● Easy to manoeuvreRLA 240 ⑤\n",
      "36 V • 15.0 kg②\n",
      "Compact battery aerator for scarifying and combing smaller \n",
      "areas of lawn. Central adjustment of the working depth by means of a rotary switch on the housing, handlebar with 4-setting height adjustment, 34 cm working width, 16 blades. Including an aerator roller and 50-litre grass catcher box. \n",
      "RLA 240  excluding battery and charger\n",
      "Order number  6291 011 6600\n",
      "RLA 240 set with AK 30 and AL 101\n",
      "Order number 6291 200 0006\n",
      "RLA 240 set with 2 × AK 30 and AL 101\n",
      "Order number 6291 200 0003\n",
      "ry aerator for scari fying and combin g\n",
      "fOrder number\n",
      "Lawn areas up to … (m2)\n",
      "Working width (cm)\n",
      "Working depth range (mm)\n",
      "Catcher box\n",
      "Engine type / STIHL battery power system\n",
      "Rated output (W) / rated speed (rpm)\n",
      "Weight (kg)\n",
      "Guaranteed sound power level (dB(A))\n",
      "Measured sound pressure level (dB(A))\n",
      "Sound pressure level uncertainty① (dB(A))\n",
      "Vibration level (m/s2)\n",
      "Vibration level uncertainty① (m/s2)\n",
      "Working depth adjustment on the housing\n",
      "Aerator roller\n",
      "Battery lawn aerator\n",
      "RLa 240 6291 011 6600 –3 4-7.5 to +7.5 central,\n",
      "inﬁnitely variable⬤⬤ AK-System 900 / 3,650 15.0②92 75 3 4.8 2.4 ⬤ ⬤\n",
      "RLa 240 set\n",
      "with AK 30 + AL 1016291 200 0006 500④34-7.5 to +7.5 central,\n",
      "inﬁnitely variable⬤⬤ AK-System 900 / 3,650 16.3③92 75 3 4.8 2.4 ⬤ ⬤\n",
      "RLa 240 set\n",
      "with 2 × AK 30 + AL 101 6291 200 0003 1,000④34-7.5 to +7.5 central,\n",
      "inﬁnitely variable⬤⬤ AK-System 900 / 3,650 17.6③92 75 3 4.8 2.4 ⬤ ⬤\n",
      "⬤ Fitted as standard\n",
      "Retroﬁttable (accessory)①Uncertainties in accordance with Directive 2006 / 42 / EC\n",
      "②Weight excluding battery\n",
      "③Weight including battery, excluding charger④When using the AK 30 with a recharging \n",
      "process and working an area only in one direction (no crossing-over)\n",
      "⑤For explanation of symbols, see page 482\n",
      "240 241 Robotic mowers, push mowers \n",
      "and aeratorsRobotic mowers, push mowers \n",
      "and aerators\n",
      "Mowing, pLAnting, \n",
      "farming and harvest\n",
      "RLA 240\n",
      "36 V • 15.0 kg②\n",
      "Compact b a\n",
      "areas of la w\n",
      "means o f a r\n",
      "4-settin g he\n",
      "Including a n\n",
      "RLA 2 40exclu\n",
      "Order n umbe r\n",
      "RLA 24 0setw\n",
      "Order num ber\n",
      "RLA 24 0setw\n",
      "Order n umbe r\n",
      "Batter y\n",
      "RLa 24 0\n",
      "RLa 240 s\n",
      "with AK 30 +\n",
      "RLa 240 s\n",
      "with 2 × AK 3\n",
      "AL 101\n",
      "⬤\n",
      "⬤Fitted as sta\n",
      "Retroﬁttabl e\n",
      "d \n",
      "moss\n"
     ]
    }
   ],
   "source": [
    "print (f'You have {len(data)} document(s) in your data')\n",
    "print (f'There are {len(data[0].page_content)} characters in your sample document')\n",
    "print (f'Here is a sample: {data[120].page_content}')"
   ]
  },
  {
   "cell_type": "markdown",
   "metadata": {},
   "source": [
    "#### Chunk Data"
   ]
  },
  {
   "cell_type": "code",
   "execution_count": 25,
   "metadata": {},
   "outputs": [],
   "source": [
    "text_splitter = RecursiveCharacterTextSplitter(chunk_size=1000, chunk_overlap=50)\n",
    "texts = text_splitter.split_documents(data)"
   ]
  },
  {
   "cell_type": "code",
   "execution_count": 26,
   "metadata": {},
   "outputs": [
    {
     "name": "stdout",
     "output_type": "stream",
     "text": [
      "Now you have 1016 documents\n"
     ]
    }
   ],
   "source": [
    "print (f'Now you have {len(texts)} documents')"
   ]
  },
  {
   "cell_type": "code",
   "execution_count": 57,
   "metadata": {},
   "outputs": [
    {
     "data": {
      "text/plain": [
       "Document(page_content='For comfortable operation where \\nspace is limited. Single-handed multi-function handle, loop handle with barrier bar, STIHL 2-MIX engine, harness.\\nOrder number 4144 200 0096\\nFS 56\\n27 .2 cm3 • 0.8 kW / 1.1 hp  • 5.1 kg①\\nFor working on areas of tough \\ngrass. Single-handed multi-function handle, ergonomic bike handle, STIHL 2-MIX engine, optimised trimmer angle, straight shaft, harness.\\nOrder number 4144 200 0036\\nAdditional versions: \\nFS 56 C-E 4144 200 0095\\nFS 70 C-E\\n27 .2 cm3 • 0.9 kW / 1.2 hp  • 5.4 kg①\\nFor mowing large areas of tough \\ngrass. STIHL ErgoStart, single-handed multi-function handle, ergonomic bike handle, STIHL 2-MIX engine, harness.\\nOrder number 4144 200 0076\\nAdditional versions: \\nFS 70 RC-E 4144 200 0105FS 89\\n28.4 cm3 • 0.95 kW /1 .3  h p  • 5.8 kg①\\nFor working on areas of tough', metadata={'source': './stihl.pdf', 'page': 123})"
      ]
     },
     "execution_count": 57,
     "metadata": {},
     "output_type": "execute_result"
    }
   ],
   "source": [
    "texts[0]"
   ]
  },
  {
   "cell_type": "markdown",
   "metadata": {},
   "source": [
    "#### Pinecone: Storing Embeddings"
   ]
  },
  {
   "cell_type": "code",
   "execution_count": 65,
   "metadata": {},
   "outputs": [],
   "source": [
    "embeddings = OpenAIEmbeddings(openai_api_key=OPENAI_API_KEY)\n",
    "index_name = \"stihl\"\n",
    "docsearch = PineconeVectorStore.from_documents(texts, embeddings, index_name=index_name)"
   ]
  },
  {
   "cell_type": "code",
   "execution_count": 66,
   "metadata": {},
   "outputs": [],
   "source": [
    "docsearch = Pinecone.from_texts([t.page_content for t in texts], embeddings, index_name=index_name)"
   ]
  },
  {
   "cell_type": "markdown",
   "metadata": {},
   "source": [
    "#### Define Chain"
   ]
  },
  {
   "cell_type": "code",
   "execution_count": 68,
   "metadata": {},
   "outputs": [
    {
     "name": "stderr",
     "output_type": "stream",
     "text": [
      "/Users/rafraf/Documents/code/llava-test/vision_venv/lib/python3.9/site-packages/langchain_core/_api/deprecation.py:119: LangChainDeprecationWarning: The class `ChatOpenAI` was deprecated in LangChain 0.0.10 and will be removed in 0.2.0. An updated version of the class exists in the langchain-openai package and should be used instead. To use it run `pip install -U langchain-openai` and import as `from langchain_openai import ChatOpenAI`.\n",
      "  warn_deprecated(\n"
     ]
    }
   ],
   "source": [
    "llm = ChatOpenAI(temperature=0, openai_api_key=OPENAI_API_KEY)\n",
    "chain = load_qa_chain(llm, chain_type=\"stuff\")"
   ]
  },
  {
   "cell_type": "code",
   "execution_count": 83,
   "metadata": {},
   "outputs": [],
   "source": [
    "query = \"Give me a machine that features a single-handed operation, a loop handle with a safety barrier bar and around 25 cm³ with a high power output\"\n",
    "docs = docsearch.similarity_search(query)"
   ]
  },
  {
   "cell_type": "markdown",
   "metadata": {},
   "source": [
    "#### Run Chain"
   ]
  },
  {
   "cell_type": "code",
   "execution_count": 84,
   "metadata": {},
   "outputs": [
    {
     "data": {
      "text/plain": [
       "'Based on the information provided, the STIHL FS 55 R could be a suitable option for your requirements. It features single-handed operation, a loop handle with a barrier bar, and has a 27.2 cm³ engine with a power output of 0.75 kW / 1.0 hp. While it slightly exceeds the 25 cm³ requirement, it aligns with the other specifications you mentioned.'"
      ]
     },
     "execution_count": 84,
     "metadata": {},
     "output_type": "execute_result"
    }
   ],
   "source": [
    "chain.run(input_documents=docs, question=query)"
   ]
  }
 ],
 "metadata": {
  "kernelspec": {
   "display_name": "vision_venv",
   "language": "python",
   "name": "python3"
  },
  "language_info": {
   "codemirror_mode": {
    "name": "ipython",
    "version": 3
   },
   "file_extension": ".py",
   "mimetype": "text/x-python",
   "name": "python",
   "nbconvert_exporter": "python",
   "pygments_lexer": "ipython3",
   "version": "3.9.6"
  }
 },
 "nbformat": 4,
 "nbformat_minor": 2
}
